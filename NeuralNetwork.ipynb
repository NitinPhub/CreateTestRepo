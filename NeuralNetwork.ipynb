{
 "cells": [
  {
   "cell_type": "markdown",
   "id": "cc15150b",
   "metadata": {},
   "source": [
    "# Neural Network"
   ]
  },
  {
   "cell_type": "code",
   "execution_count": 3,
   "id": "8a5099e3",
   "metadata": {},
   "outputs": [
    {
     "name": "stdout",
     "output_type": "stream",
     "text": [
      "[3.0, 2.8, 2.2, 1.3]\n",
      "5.04\n"
     ]
    }
   ],
   "source": [
    "import random\n",
    "# Input values\n",
    "#inputs = [1.0, 2.0, 3.0, 2.5]\n",
    "\n",
    "# Initialize an empty list\n",
    "inputs = []\n",
    "\n",
    "# Add three random values to the list using a loop\n",
    "for _ in range(4):\n",
    "    inputv = round(random.uniform(1,4), 1)  # Generate a random float between 1 and 3\n",
    "    inputs.append(inputv)\n",
    "    \n",
    "print(inputs)\n",
    "# Weights assigned to each input\n",
    "weights = [0.2, 0.8, -0.5, 1.0]\n",
    "\n",
    "# Bias value\n",
    "bias = 2.0\n",
    "\n",
    "# Neuron output calculation using the formula: input*weight + input*weight + ... + bias\n",
    "output = (inputs[0]*weights[0] +\n",
    "          inputs[1]*weights[1] +\n",
    "          inputs[2]*weights[2] +\n",
    "          inputs[3]*weights[3] + bias)\n",
    "\n",
    "# Print the calculated output\n",
    "print(output)"
   ]
  },
  {
   "cell_type": "code",
   "execution_count": null,
   "id": "a27570d0",
   "metadata": {},
   "outputs": [],
   "source": []
  }
 ],
 "metadata": {
  "kernelspec": {
   "display_name": "Python 3 (ipykernel)",
   "language": "python",
   "name": "python3"
  },
  "language_info": {
   "codemirror_mode": {
    "name": "ipython",
    "version": 3
   },
   "file_extension": ".py",
   "mimetype": "text/x-python",
   "name": "python",
   "nbconvert_exporter": "python",
   "pygments_lexer": "ipython3",
   "version": "3.11.3"
  }
 },
 "nbformat": 4,
 "nbformat_minor": 5
}
